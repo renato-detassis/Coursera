{
 "cells": [
  {
   "cell_type": "markdown",
   "id": "dec6482a-443b-4fb9-b5c7-e9ed1378155b",
   "metadata": {},
   "source": [
    "# Data Science Tools and Ecosystem"
   ]
  },
  {
   "cell_type": "markdown",
   "id": "f05bb298-2632-41a3-ba9a-3c1c1519284c",
   "metadata": {},
   "source": [
    "# In this notebook, Data Science Tools and Ecosystem are summarized."
   ]
  },
  {
   "cell_type": "markdown",
   "id": "2d407a6c-c86c-4b7b-83b5-ad415af973e7",
   "metadata": {},
   "source": [
    "# **Objectives:**"
   ]
  },
  {
   "cell_type": "markdown",
   "id": "53ac6d83-438e-4563-8237-0c89685e499a",
   "metadata": {},
   "source": [
    "## • Libraries used by Data Scientists\n",
    "## • Popular languages used by Data Scientists\n",
    "## • Arithmetic calculations\n",
    "## • Conversions"
   ]
  },
  {
   "cell_type": "markdown",
   "id": "ffdca815-050c-4236-a586-0f3d4c8787b9",
   "metadata": {},
   "source": [
    "# Some of the popular languages that Data Scientists use are:"
   ]
  },
  {
   "cell_type": "markdown",
   "id": "59158548-4d2f-49d4-a5e8-9dee997b2103",
   "metadata": {},
   "source": [
    "## 1. SQL\n",
    "## 2. Python\n",
    "## 3. R\n",
    "## 4. Java"
   ]
  },
  {
   "cell_type": "markdown",
   "id": "4b0c484d-72c7-4364-911f-a0bf376e33e4",
   "metadata": {},
   "source": [
    "# Some of the commonly used libraries used by Data Scientists include:"
   ]
  },
  {
   "cell_type": "markdown",
   "id": "1eaccea9-7b67-4ab5-9ba7-57d1de022cc5",
   "metadata": {},
   "source": [
    "## 1. NumPy\n",
    "## 2. Pandas\n",
    "## 3. Matplotlib\n",
    "## 4. SciPy"
   ]
  },
  {
   "cell_type": "markdown",
   "id": "8019a6f8-2ed7-44a7-8d7f-271f2a3e636e",
   "metadata": {},
   "source": [
    "# Data Science Tools\n",
    "-----------------\n",
    "## Jupyter Notebooks\n",
    "## RStudio\n",
    "## Apache Zeppelin"
   ]
  },
  {
   "cell_type": "markdown",
   "id": "6c7d91d1-4eb1-45bf-b9a5-20d2a31294da",
   "metadata": {},
   "source": [
    "### Below are a few examples of evaluating arithmetic expressions in Python"
   ]
  },
  {
   "cell_type": "markdown",
   "id": "60666285-aeee-43ae-b9cf-1618719019a7",
   "metadata": {},
   "source": [
    "### This a simple arithmetic expression to mutiply then add integers"
   ]
  },
  {
   "cell_type": "markdown",
   "id": "d5614578-8b75-4389-ab04-6850715598fa",
   "metadata": {},
   "source": [
    "### (3*4)+5"
   ]
  },
  {
   "cell_type": "markdown",
   "id": "775e30e3-8ffb-4460-a49a-d2cf5c43e131",
   "metadata": {},
   "source": [
    "### Execution:"
   ]
  },
  {
   "cell_type": "code",
   "execution_count": 8,
   "id": "5378edcf-6f2b-4824-9382-3803d2ca136c",
   "metadata": {},
   "outputs": [
    {
     "data": {
      "text/plain": [
       "17"
      ]
     },
     "execution_count": 8,
     "metadata": {},
     "output_type": "execute_result"
    }
   ],
   "source": [
    "(3*4)+5"
   ]
  },
  {
   "cell_type": "markdown",
   "id": "ea194129-088f-4830-bbf0-ad2c0a0e8352",
   "metadata": {},
   "source": [
    "## This will convert 200 minutes to hours by diving by 60"
   ]
  },
  {
   "cell_type": "code",
   "execution_count": 10,
   "id": "1245099e-ccc1-4baf-8873-0724d5c13018",
   "metadata": {},
   "outputs": [
    {
     "name": "stdout",
     "output_type": "stream",
     "text": [
      "Hours = 3\n",
      "Minutes = 20\n"
     ]
    }
   ],
   "source": [
    "min = 200\n",
    "h = min // 60\n",
    "m = min % 60\n",
    "print(\"Hours =\", h)\n",
    "print(\"Minutes =\", m)"
   ]
  },
  {
   "cell_type": "markdown",
   "id": "4a1d3e80-2f79-4634-8edb-95a9f56e52bd",
   "metadata": {},
   "source": [
    "## Author"
   ]
  },
  {
   "cell_type": "markdown",
   "id": "6bd0a0aa-c5a4-4923-a58e-cbb0cae882eb",
   "metadata": {},
   "source": [
    "Renato Detassis"
   ]
  },
  {
   "cell_type": "code",
   "execution_count": null,
   "id": "201b3a3d-372f-4610-81e9-c29066005f1b",
   "metadata": {},
   "outputs": [],
   "source": []
  }
 ],
 "metadata": {
  "kernelspec": {
   "display_name": "Python [conda env:base] *",
   "language": "python",
   "name": "conda-base-py"
  },
  "language_info": {
   "codemirror_mode": {
    "name": "ipython",
    "version": 3
   },
   "file_extension": ".py",
   "mimetype": "text/x-python",
   "name": "python",
   "nbconvert_exporter": "python",
   "pygments_lexer": "ipython3",
   "version": "3.12.7"
  }
 },
 "nbformat": 4,
 "nbformat_minor": 5
}
